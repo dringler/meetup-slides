{
 "cells": [
  {
   "cell_type": "markdown",
   "metadata": {
    "slideshow": {
     "slide_type": "slide"
    }
   },
   "source": [
    "<center>\n",
    "<img src=./assets/PyDataLogoBerlin_BearOnly_Logo4x3.png width=600 style=\"display:inline\"/>\n",
    "<h2>https://berlin.pydata.org</h2>\n",
    "<h2>@pydataberlin</h2>\n",
    "</center>"
   ]
  },
  {
   "cell_type": "markdown",
   "metadata": {
    "slideshow": {
     "slide_type": "slide"
    }
   },
   "source": [
    "#  Agenda\n",
    "\n",
    "## 19:00 - Introduction\n",
    "\n",
    "## 19:15 - \"Too many satellites to operate? How Planet operates 100+ satellites using agile aerospace\" -- Kattia Flores Pozo\n",
    "\n",
    "## Break\n",
    "\n",
    "## 19:45 - \"Deepfakes or why I have trust issues\" -- Niladri Shekhar Dutt\n",
    "\n",
    "### Note: this meetup will be recorded.\n"
   ]
  },
  {
   "cell_type": "markdown",
   "metadata": {
    "slideshow": {
     "slide_type": "slide"
    }
   },
   "source": [
    "## Who we are\n",
    "\n",
    "- **PyData Berlin** is our local meetup chapter\n",
    "- Started in 2016\n",
    "- Monthly meetups, every 3rd Wednesday of the month\n",
    "- We are all volunteers\n",
    "\n",
    "<center>\n",
    "<img src=./assets/numFocus.png width= 300 style=\"display:inline\"/>\n",
    "</center>"
   ]
  },
  {
   "cell_type": "markdown",
   "metadata": {
    "slideshow": {
     "slide_type": "slide"
    }
   },
   "source": [
    "<center>\n",
    "<h1>https://numfocus.org/code-of-conduct</h1>\n",
    "<img src=./assets/nf-coc-wide.png style=\"display:inline\"/>\n",
    "</center>"
   ]
  },
  {
   "cell_type": "markdown",
   "metadata": {
    "slideshow": {
     "slide_type": "slide"
    }
   },
   "source": [
    "<center>\n",
    "<h1>http://pythonberlinslack.herokuapp.com//</h1>\n",
    "<img src=./assets/pythonberlin.png style=\"display:inline\"/>\n",
    "</center>"
   ]
  },
  {
   "cell_type": "markdown",
   "metadata": {
    "slideshow": {
     "slide_type": "slide"
    }
   },
   "source": [
    "<center>\n",
    "<img src=./assets/PyDataLogoBerlin_BearOnly_Logo4x3.png width=600 style=\"display:inline\"/>\n",
    "<h2>https://berlin.pydata.org</h2>\n",
    "    <h2>@pydataberlin || info@pydata.berlin</h2>\n",
    "</center>"
   ]
  }
 ],
 "metadata": {
  "celltoolbar": "Slideshow",
  "kernelspec": {
   "display_name": "Python 3",
   "language": "python",
   "name": "python3"
  },
  "language_info": {
   "codemirror_mode": {
    "name": "ipython",
    "version": 3
   },
   "file_extension": ".py",
   "mimetype": "text/x-python",
   "name": "python",
   "nbconvert_exporter": "python",
   "pygments_lexer": "ipython3",
   "version": "3.8.3"
  }
 },
 "nbformat": 4,
 "nbformat_minor": 1
}
