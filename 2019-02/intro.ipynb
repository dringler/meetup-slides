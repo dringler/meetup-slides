{
 "cells": [
  {
   "cell_type": "markdown",
   "metadata": {
    "slideshow": {
     "slide_type": "slide"
    }
   },
   "source": [
    "<center>\n",
    "<img src=./assets/PyDataLogoBerlin_BearOnly_Logo4x3.png width=600 style=\"display:inline\"/>\n",
    "<h2>https://berlin.pydata.org</h2>\n",
    "<h2>@pydataberlin</h2>\n",
    "</center>"
   ]
  },
  {
   "cell_type": "markdown",
   "metadata": {
    "slideshow": {
     "slide_type": "slide"
    }
   },
   "source": [
    "<center>\n",
    "<h1>https://numfocus.org/code-of-conduct</h1>\n",
    "<img src=./assets/nf-coc-wide.png style=\"display:inline\"/>\n",
    "</center>"
   ]
  },
  {
   "cell_type": "markdown",
   "metadata": {
    "slideshow": {
     "slide_type": "slide"
    }
   },
   "source": [
    "<center>\n",
    "<h1>http://pythonberlinslack.herokuapp.com</h1>\n",
    "<img src=./assets/pythonberlin.png style=\"display:inline\"/>\n",
    "</center>"
   ]
  },
  {
   "cell_type": "markdown",
   "metadata": {
    "slideshow": {
     "slide_type": "slide"
    }
   },
   "source": [
    "<center>\n",
    "<table style=\"border-style: hidden;\">\n",
    "<tr style=\"border-style: hidden;\">\n",
    "<td style=\"border-style: hidden;\"> <img src=\"./assets/PyDataLogoBerlin_BearOnly_Logo4x3.png\" style=\"width: 300px;\"/> </td>\n",
    "<td style=\"border-style: hidden;\"> <img src=\"./assets/pyconde.png\" style=\"width: 200px;\"/> </td>\n",
    "</tr>\n",
    "</table>\n",
    "<h2>PyCon DE & PyData Berlin Conference 2019</h2>\n",
    "<h3>October 9-13 @ Kosmos</h3>\n",
    "<h4>Conference: October 9-11</h4>\n",
    "<h4>Tutorials / Sprints: October 12-13</h4>\n",
    "</center>"
   ]
  },
  {
   "cell_type": "markdown",
   "metadata": {
    "slideshow": {
     "slide_type": "slide"
    }
   },
   "source": [
    "<center>\n",
    "<h2>Getting Started? Need help? Want to help/mentor?</h2>\n",
    "<h3>Open Source Diversity Meetup (https://www.meetup.com/opensourcediversity/)</h3>\n",
    "<h3>OpenTechSchool Berlin Meetup (https://www.meetup.com/opentechschool-berlin/)</h3>\n",
    "<h3>codebar (https://codebar.io/)</h3>\n",
    "<h3>AMPAIR (https://ampair.io/)</h3>\n",
    "</center>"
   ]
  },
  {
   "cell_type": "markdown",
   "metadata": {
    "slideshow": {
     "slide_type": "slide"
    }
   },
   "source": [
    "##  Introduction to WATTx\n",
    "\n",
    "## NLP Terminology\n",
    "\n",
    "### Speaker: Matti Lyra\n",
    "\n",
    "## The ImageNet Moment in NLP: From wordvectors to language models\n",
    "### Speaker: Tobias Sterbak\n",
    "\n",
    "## Lightning Talks\n",
    "### Rüdiger Busche: Sacred (https://github.com/IDSIA/sacred)\n",
    "### Damian Heimel: AI from research to production, lessens learned in http://www.deevio.ai/\n"
   ]
  },
  {
   "cell_type": "markdown",
   "metadata": {
    "slideshow": {
     "slide_type": "slide"
    }
   },
   "source": [
    "<center>\n",
    "<img src=./assets/PyDataLogoBerlin_BearOnly_Logo4x3.png width=600 style=\"display:inline\"/>\n",
    "<h2>https://berlin.pydata.org</h2>\n",
    "<h2>@pydataberlin</h2>\n",
    "</center>"
   ]
  }
 ],
 "metadata": {
  "celltoolbar": "Slideshow",
  "kernelspec": {
   "display_name": "Python 3",
   "language": "python",
   "name": "python3"
  },
  "language_info": {
   "codemirror_mode": {
    "name": "ipython",
    "version": 3
   },
   "file_extension": ".py",
   "mimetype": "text/x-python",
   "name": "python",
   "nbconvert_exporter": "python",
   "pygments_lexer": "ipython3",
   "version": "3.6.8"
  }
 },
 "nbformat": 4,
 "nbformat_minor": 1
}
